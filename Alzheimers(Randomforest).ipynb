{
  "nbformat": 4,
  "nbformat_minor": 0,
  "metadata": {
    "colab": {
      "name": "Alzheimers(Randomforest).ipynb",
      "provenance": [],
      "collapsed_sections": [],
      "mount_file_id": "1kbmzS6CrXFwkLCXBn3D9OmwgYWguLW4v",
      "authorship_tag": "ABX9TyMsV3Iv3k+i8wltap9MCaPb",
      "include_colab_link": true
    },
    "kernelspec": {
      "name": "python3",
      "display_name": "Python 3"
    },
    "language_info": {
      "name": "python"
    }
  },
  "cells": [
    {
      "cell_type": "markdown",
      "metadata": {
        "id": "view-in-github",
        "colab_type": "text"
      },
      "source": [
        "<a href=\"https://colab.research.google.com/github/NakkaBhavith/450/blob/main/Alzheimers(Randomforest).ipynb\" target=\"_parent\"><img src=\"https://colab.research.google.com/assets/colab-badge.svg\" alt=\"Open In Colab\"/></a>"
      ]
    },
    {
      "cell_type": "code",
      "metadata": {
        "id": "llZgaMVvpErJ"
      },
      "source": [
        "import pandas as pd\n",
        "from sklearn.model_selection import train_test_split \n",
        "from sklearn.ensemble import RandomForestClassifier \n",
        "from sklearn import metrics\n",
        "from sklearn.metrics import confusion_matrix, accuracy_score\n",
        "import numpy as np"
      ],
      "execution_count": null,
      "outputs": []
    },
    {
      "cell_type": "code",
      "metadata": {
        "colab": {
          "base_uri": "https://localhost:8080/",
          "height": 206
        },
        "id": "4FhgsX8_wBZC",
        "outputId": "dce38a5c-827e-4369-fea7-934163b8c7b0"
      },
      "source": [
        "col_names = ['Subject ID', 'MRI ID', 'Group', 'Visit', 'MR Delay', 'M/F', 'Hand', 'Age', 'EDUC', 'SES', 'MMSE', 'CDR', 'eTIV', 'nWBV', 'ASF']\n",
        "# load dataset\n",
        "data = pd.read_csv(\"/content/drive/MyDrive/AI Data/oasis_longitudinal.csv\")\n",
        "data.head()"
      ],
      "execution_count": null,
      "outputs": [
        {
          "output_type": "execute_result",
          "data": {
            "text/html": [
              "<div>\n",
              "<style scoped>\n",
              "    .dataframe tbody tr th:only-of-type {\n",
              "        vertical-align: middle;\n",
              "    }\n",
              "\n",
              "    .dataframe tbody tr th {\n",
              "        vertical-align: top;\n",
              "    }\n",
              "\n",
              "    .dataframe thead th {\n",
              "        text-align: right;\n",
              "    }\n",
              "</style>\n",
              "<table border=\"1\" class=\"dataframe\">\n",
              "  <thead>\n",
              "    <tr style=\"text-align: right;\">\n",
              "      <th></th>\n",
              "      <th>Subject ID</th>\n",
              "      <th>MRI ID</th>\n",
              "      <th>Group</th>\n",
              "      <th>Visit</th>\n",
              "      <th>MR Delay</th>\n",
              "      <th>M/F</th>\n",
              "      <th>Hand</th>\n",
              "      <th>Age</th>\n",
              "      <th>EDUC</th>\n",
              "      <th>SES</th>\n",
              "      <th>MMSE</th>\n",
              "      <th>CDR</th>\n",
              "      <th>eTIV</th>\n",
              "      <th>nWBV</th>\n",
              "      <th>ASF</th>\n",
              "    </tr>\n",
              "  </thead>\n",
              "  <tbody>\n",
              "    <tr>\n",
              "      <th>0</th>\n",
              "      <td>OAS2_0001</td>\n",
              "      <td>OAS2_0001_MR1</td>\n",
              "      <td>Nondemented</td>\n",
              "      <td>1</td>\n",
              "      <td>0</td>\n",
              "      <td>M</td>\n",
              "      <td>R</td>\n",
              "      <td>87</td>\n",
              "      <td>14</td>\n",
              "      <td>2.0</td>\n",
              "      <td>27.0</td>\n",
              "      <td>0.0</td>\n",
              "      <td>1987</td>\n",
              "      <td>0.696</td>\n",
              "      <td>0.883</td>\n",
              "    </tr>\n",
              "    <tr>\n",
              "      <th>1</th>\n",
              "      <td>OAS2_0001</td>\n",
              "      <td>OAS2_0001_MR2</td>\n",
              "      <td>Nondemented</td>\n",
              "      <td>2</td>\n",
              "      <td>457</td>\n",
              "      <td>M</td>\n",
              "      <td>R</td>\n",
              "      <td>88</td>\n",
              "      <td>14</td>\n",
              "      <td>2.0</td>\n",
              "      <td>30.0</td>\n",
              "      <td>0.0</td>\n",
              "      <td>2004</td>\n",
              "      <td>0.681</td>\n",
              "      <td>0.876</td>\n",
              "    </tr>\n",
              "    <tr>\n",
              "      <th>2</th>\n",
              "      <td>OAS2_0002</td>\n",
              "      <td>OAS2_0002_MR1</td>\n",
              "      <td>Demented</td>\n",
              "      <td>1</td>\n",
              "      <td>0</td>\n",
              "      <td>M</td>\n",
              "      <td>R</td>\n",
              "      <td>75</td>\n",
              "      <td>12</td>\n",
              "      <td>NaN</td>\n",
              "      <td>23.0</td>\n",
              "      <td>0.5</td>\n",
              "      <td>1678</td>\n",
              "      <td>0.736</td>\n",
              "      <td>1.046</td>\n",
              "    </tr>\n",
              "    <tr>\n",
              "      <th>3</th>\n",
              "      <td>OAS2_0002</td>\n",
              "      <td>OAS2_0002_MR2</td>\n",
              "      <td>Demented</td>\n",
              "      <td>2</td>\n",
              "      <td>560</td>\n",
              "      <td>M</td>\n",
              "      <td>R</td>\n",
              "      <td>76</td>\n",
              "      <td>12</td>\n",
              "      <td>NaN</td>\n",
              "      <td>28.0</td>\n",
              "      <td>0.5</td>\n",
              "      <td>1738</td>\n",
              "      <td>0.713</td>\n",
              "      <td>1.010</td>\n",
              "    </tr>\n",
              "    <tr>\n",
              "      <th>4</th>\n",
              "      <td>OAS2_0002</td>\n",
              "      <td>OAS2_0002_MR3</td>\n",
              "      <td>Demented</td>\n",
              "      <td>3</td>\n",
              "      <td>1895</td>\n",
              "      <td>M</td>\n",
              "      <td>R</td>\n",
              "      <td>80</td>\n",
              "      <td>12</td>\n",
              "      <td>NaN</td>\n",
              "      <td>22.0</td>\n",
              "      <td>0.5</td>\n",
              "      <td>1698</td>\n",
              "      <td>0.701</td>\n",
              "      <td>1.034</td>\n",
              "    </tr>\n",
              "  </tbody>\n",
              "</table>\n",
              "</div>"
            ],
            "text/plain": [
              "  Subject ID         MRI ID        Group  Visit  ...  CDR  eTIV   nWBV    ASF\n",
              "0  OAS2_0001  OAS2_0001_MR1  Nondemented      1  ...  0.0  1987  0.696  0.883\n",
              "1  OAS2_0001  OAS2_0001_MR2  Nondemented      2  ...  0.0  2004  0.681  0.876\n",
              "2  OAS2_0002  OAS2_0002_MR1     Demented      1  ...  0.5  1678  0.736  1.046\n",
              "3  OAS2_0002  OAS2_0002_MR2     Demented      2  ...  0.5  1738  0.713  1.010\n",
              "4  OAS2_0002  OAS2_0002_MR3     Demented      3  ...  0.5  1698  0.701  1.034\n",
              "\n",
              "[5 rows x 15 columns]"
            ]
          },
          "metadata": {},
          "execution_count": 2
        }
      ]
    },
    {
      "cell_type": "code",
      "metadata": {
        "colab": {
          "base_uri": "https://localhost:8080/"
        },
        "id": "h9veOstlwImV",
        "outputId": "014e0c4c-de30-42bf-b903-fd184d7b5d9c"
      },
      "source": [
        "data.drop(['Subject ID','MRI ID','Hand','Visit','MR Delay'], axis = 1, inplace = True)\n",
        "# Checking for null values\n",
        "print(data.info())"
      ],
      "execution_count": null,
      "outputs": [
        {
          "output_type": "stream",
          "name": "stdout",
          "text": [
            "<class 'pandas.core.frame.DataFrame'>\n",
            "RangeIndex: 373 entries, 0 to 372\n",
            "Data columns (total 10 columns):\n",
            " #   Column  Non-Null Count  Dtype  \n",
            "---  ------  --------------  -----  \n",
            " 0   Group   373 non-null    object \n",
            " 1   M/F     373 non-null    object \n",
            " 2   Age     373 non-null    int64  \n",
            " 3   EDUC    373 non-null    int64  \n",
            " 4   SES     354 non-null    float64\n",
            " 5   MMSE    371 non-null    float64\n",
            " 6   CDR     373 non-null    float64\n",
            " 7   eTIV    373 non-null    int64  \n",
            " 8   nWBV    373 non-null    float64\n",
            " 9   ASF     373 non-null    float64\n",
            "dtypes: float64(5), int64(3), object(2)\n",
            "memory usage: 29.3+ KB\n",
            "None\n"
          ]
        }
      ]
    },
    {
      "cell_type": "code",
      "metadata": {
        "colab": {
          "base_uri": "https://localhost:8080/"
        },
        "id": "WWs4_-yTwc-a",
        "outputId": "0a308cf8-5dcd-42d6-b48f-d48337e1805c"
      },
      "source": [
        "pd.isnull(data).sum() "
      ],
      "execution_count": null,
      "outputs": [
        {
          "output_type": "execute_result",
          "data": {
            "text/plain": [
              "Group     0\n",
              "M/F       0\n",
              "Age       0\n",
              "EDUC      0\n",
              "SES      19\n",
              "MMSE      2\n",
              "CDR       0\n",
              "eTIV      0\n",
              "nWBV      0\n",
              "ASF       0\n",
              "dtype: int64"
            ]
          },
          "metadata": {},
          "execution_count": 4
        }
      ]
    },
    {
      "cell_type": "code",
      "metadata": {
        "colab": {
          "base_uri": "https://localhost:8080/"
        },
        "id": "QcSgr6B2wiFA",
        "outputId": "3d2bd78e-f5aa-48fd-ab6d-73bd0330c142"
      },
      "source": [
        "data = data.dropna(axis=0, how='any')\n",
        "pd.isnull(data).sum()"
      ],
      "execution_count": null,
      "outputs": [
        {
          "output_type": "execute_result",
          "data": {
            "text/plain": [
              "Group    0\n",
              "M/F      0\n",
              "Age      0\n",
              "EDUC     0\n",
              "SES      0\n",
              "MMSE     0\n",
              "CDR      0\n",
              "eTIV     0\n",
              "nWBV     0\n",
              "ASF      0\n",
              "dtype: int64"
            ]
          },
          "metadata": {},
          "execution_count": 5
        }
      ]
    },
    {
      "cell_type": "code",
      "metadata": {
        "id": "Xgq-mUhZwrIU"
      },
      "source": [
        "# Converting the categorical variable into numerical\n",
        "varlist1 =  ['M/F']\n",
        "varlist2 = ['Group']\n",
        "\n",
        "# Defining the map function\n",
        "def binary_map1(x):\n",
        "    return x.map({'M': 1, \"F\": 0})\n",
        "def binary_map2(y):\n",
        "    return y.map({'Demented' : 1, 'Nondemented' : 0, 'Converted' : 0})\n",
        "\n",
        "data[varlist1] = data[varlist1].apply(binary_map1)\n",
        "data[varlist2] = data[varlist2].apply(binary_map2)"
      ],
      "execution_count": null,
      "outputs": []
    },
    {
      "cell_type": "code",
      "metadata": {
        "id": "l-_K0V_dwtQF"
      },
      "source": [
        "from sklearn.preprocessing import MinMaxScaler\n",
        "scaler = MinMaxScaler()\n",
        "\n",
        "# Applying scaler() to all the columns except the 'yes-no' and 'dummy' variables\n",
        "num_vars = ['Age', 'EDUC', 'SES', 'MMSE', 'eTIV', 'ASF']\n",
        "data[num_vars] = scaler.fit_transform(data[num_vars])"
      ],
      "execution_count": null,
      "outputs": []
    },
    {
      "cell_type": "code",
      "metadata": {
        "id": "X8nhPXGhxXkc"
      },
      "source": [
        "#split dataset in features and target variable\n",
        "feature_cols = ['M/F', 'Age', 'EDUC', 'SES', 'MMSE', 'CDR', 'eTIV', 'nWBV', 'ASF']\n",
        "X = data[feature_cols] # Features\n",
        "y = data.Group # Target variable"
      ],
      "execution_count": null,
      "outputs": []
    },
    {
      "cell_type": "code",
      "metadata": {
        "id": "FphWV3ktxvPx"
      },
      "source": [
        "# Split dataset into training set and test set\n",
        "X_train, X_test, y_train, y_test = train_test_split(X, y, test_size=0.4, random_state=1)"
      ],
      "execution_count": null,
      "outputs": []
    },
    {
      "cell_type": "code",
      "metadata": {
        "id": "5HXxrGaCzwWt"
      },
      "source": [
        "# Create Random Forest classifer object\n",
        "clf = RandomForestClassifier()\n",
        "\n",
        "# Train Random Forest Classifer\n",
        "clf = clf.fit(X_train,y_train)"
      ],
      "execution_count": null,
      "outputs": []
    },
    {
      "cell_type": "code",
      "metadata": {
        "id": "PNZnP37z0AAA"
      },
      "source": [
        "#Predict the response for test dataset\n",
        "y_pred = clf.predict(X_test)\n",
        "y_pred1 = clf.predict(X_train)"
      ],
      "execution_count": null,
      "outputs": []
    },
    {
      "cell_type": "code",
      "metadata": {
        "colab": {
          "base_uri": "https://localhost:8080/"
        },
        "id": "xUV1V8liLcZr",
        "outputId": "0d539e92-1db6-444d-e9b5-60b2de81f137"
      },
      "source": [
        "import math\n",
        "from sklearn.metrics import mean_squared_error \n",
        "from sklearn.metrics import mean_absolute_error\n",
        "\n",
        "#Training Accuracies\n",
        "rmse = math.sqrt(mean_squared_error(y_train, y_pred1)) \n",
        "print('Root mean square error', rmse) \n",
        "mse = (mean_squared_error(y_train, y_pred1)) \n",
        "print('Mean square error', mse) \n",
        "mae=mean_absolute_error(y_train, y_pred1)\n",
        "print('Mean absolute error', mae)"
      ],
      "execution_count": null,
      "outputs": [
        {
          "output_type": "stream",
          "name": "stdout",
          "text": [
            "Root mean square error 0.16823164622761327\n",
            "Mean square error 0.02830188679245283\n",
            "Mean absolute error 0.02830188679245283\n"
          ]
        }
      ]
    },
    {
      "cell_type": "code",
      "metadata": {
        "colab": {
          "base_uri": "https://localhost:8080/"
        },
        "id": "KNv2WTgBLy_7",
        "outputId": "d3e89fdb-b905-4e0e-8617-7ea08420af81"
      },
      "source": [
        "#Testing Accuracies\n",
        "rmse = math.sqrt(mean_squared_error(y_test, y_pred)) \n",
        "print('Root mean square error', rmse) \n",
        "mse = (mean_squared_error(y_test, y_pred)) \n",
        "print('Mean square error', mse) \n",
        "mae=mean_absolute_error(y_test, y_pred)\n",
        "print('Mean absolute error', mae)"
      ],
      "execution_count": null,
      "outputs": [
        {
          "output_type": "stream",
          "name": "stdout",
          "text": [
            "Root mean square error 0.2055566129482595\n",
            "Mean square error 0.04225352112676056\n",
            "Mean absolute error 0.04225352112676056\n"
          ]
        }
      ]
    },
    {
      "cell_type": "code",
      "metadata": {
        "colab": {
          "base_uri": "https://localhost:8080/"
        },
        "id": "Bn9V7eK800ct",
        "outputId": "45b79b92-2263-4c2a-9d09-1b16eb95572f"
      },
      "source": [
        "# Create Random Forest classifer object\n",
        "clf = RandomForestClassifier(max_depth=4)\n",
        "\n",
        "# Train Random Forest Classifer\n",
        "clf = clf.fit(X_train,y_train)\n",
        "\n",
        "#Predict the response for test dataset\n",
        "y_pred = clf.predict(X_test)\n",
        "y_pred1 = clf.predict(X_train)\n",
        "\n",
        "# Model Accuracy, how often is the classifier correct?\n",
        "print(\"Testing Accuracy:\",metrics.accuracy_score(y_test, y_pred))\n",
        "print(\"Training Accuracy:\",metrics.accuracy_score(y_train, y_pred1))"
      ],
      "execution_count": null,
      "outputs": [
        {
          "output_type": "stream",
          "name": "stdout",
          "text": [
            "Testing Accuracy: 0.9577464788732394\n",
            "Training Accuracy: 0.9716981132075472\n"
          ]
        }
      ]
    },
    {
      "cell_type": "code",
      "metadata": {
        "colab": {
          "base_uri": "https://localhost:8080/"
        },
        "id": "Ne3QkX5xs_Ob",
        "outputId": "f710625b-7e9b-47b5-cd1c-16264d0ca800"
      },
      "source": [
        "confusion_matrix(y_test, y_pred)"
      ],
      "execution_count": null,
      "outputs": [
        {
          "output_type": "execute_result",
          "data": {
            "text/plain": [
              "array([[82,  4],\n",
              "       [ 2, 54]])"
            ]
          },
          "metadata": {},
          "execution_count": 13
        }
      ]
    },
    {
      "cell_type": "code",
      "metadata": {
        "colab": {
          "base_uri": "https://localhost:8080/"
        },
        "id": "YIJJ1HsruhBi",
        "outputId": "eb51dda0-2d06-4d4f-e0b2-c8bc03be893e"
      },
      "source": [
        "confusion_matrix(y_train, y_pred1)"
      ],
      "execution_count": null,
      "outputs": [
        {
          "output_type": "execute_result",
          "data": {
            "text/plain": [
              "array([[135,   6],\n",
              "       [  0,  71]])"
            ]
          },
          "metadata": {},
          "execution_count": 14
        }
      ]
    },
    {
      "cell_type": "code",
      "metadata": {
        "id": "iv_xbkVtyDNe"
      },
      "source": [
        "import pickle\n",
        "# Save the model\n",
        "filename = 'model.pkl'\n",
        "pickle.dump(clf, open(filename, 'wb'))"
      ],
      "execution_count": null,
      "outputs": []
    },
    {
      "cell_type": "code",
      "metadata": {
        "colab": {
          "base_uri": "https://localhost:8080/"
        },
        "id": "TYr-41TwzDE5",
        "outputId": "381cfca3-6426-42e1-8fdc-3859ed3344fa"
      },
      "source": [
        "list_of_columns = data.columns\n",
        "input_data=pd.DataFrame(columns=list_of_columns)\n",
        "input_data.drop(['Group'], axis='columns', inplace=True)\n",
        "\n",
        "input_data.at[0, 'M/F'] = input('enter Gender : ')\n",
        "input_data.at[0, 'Age'] = int(input('enter Age : '))\n",
        "input_data.at[0, 'EDUC'] = int(input('enter education : '))\n",
        "input_data.at[0, 'SES'] = float(input('enter SES : '))\n",
        "input_data.at[0, 'MMSE'] = float(input('enter MMSE : '))\n",
        "input_data.at[0, 'CDR'] = float(input('enter CDR : '))\n",
        "input_data.at[0, 'eTIV'] = float(input('enter eTIV : '))\n",
        "input_data.at[0, 'nWBV'] = float(input('enter nWBV : '))\n",
        "input_data.at[0, 'ASF'] = float(input('enter ASF : '))\n",
        "\n",
        "# Defining the map function\n",
        "def binary_map(x):\n",
        "    return x.map({'M': 1, \"F\": 0})\n",
        "\n",
        "input_data[varlist1] = input_data[varlist1].apply(binary_map)\n",
        "\n",
        "model = pickle.load(open('model.pkl', 'rb'))\n",
        "prediction = model.predict(input_data)\n",
        "result = prediction[0]\n",
        "print('Will he/she suffer with Alzheimers : ',result)"
      ],
      "execution_count": null,
      "outputs": [
        {
          "output_type": "stream",
          "name": "stdout",
          "text": [
            "enter Gender : M\n",
            "enter Age : 77\n",
            "enter education : 10\n",
            "enter SES : 3\n",
            "enter MMSE : 1\n",
            "enter CDR : 1\n",
            "enter eTIV : 1\n",
            "enter nWBV : 1\n",
            "enter ASF : 1\n",
            "Will he/she suffer with Alzheimers :  1\n"
          ]
        }
      ]
    }
  ]
}