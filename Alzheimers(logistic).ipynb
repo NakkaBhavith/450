{
  "nbformat": 4,
  "nbformat_minor": 0,
  "metadata": {
    "colab": {
      "name": "Alzheimers(logistic).ipynb",
      "provenance": [],
      "collapsed_sections": [],
      "mount_file_id": "1p6uBxRVg3WlsomjwbQrZy-cdow7puIlj",
      "authorship_tag": "ABX9TyOjSTVrl33FUCU8HsanneAc",
      "include_colab_link": true
    },
    "kernelspec": {
      "display_name": "Python 3",
      "name": "python3"
    },
    "language_info": {
      "name": "python"
    }
  },
  "cells": [
    {
      "cell_type": "markdown",
      "metadata": {
        "id": "view-in-github",
        "colab_type": "text"
      },
      "source": [
        "<a href=\"https://colab.research.google.com/github/NakkaBhavith/450/blob/main/Alzheimers(logistic).ipynb\" target=\"_parent\"><img src=\"https://colab.research.google.com/assets/colab-badge.svg\" alt=\"Open In Colab\"/></a>"
      ]
    },
    {
      "cell_type": "code",
      "metadata": {
        "colab": {
          "base_uri": "https://localhost:8080/"
        },
        "id": "oQ49ihT3UMou",
        "outputId": "70f36866-b656-424e-b774-7a29b50d4afe"
      },
      "source": [
        "from google.colab import drive\n",
        "drive.mount('/content/drive')"
      ],
      "execution_count": null,
      "outputs": [
        {
          "output_type": "stream",
          "name": "stdout",
          "text": [
            "Drive already mounted at /content/drive; to attempt to forcibly remount, call drive.mount(\"/content/drive\", force_remount=True).\n"
          ]
        }
      ]
    },
    {
      "cell_type": "code",
      "metadata": {
        "id": "j7l6OqMJUckv"
      },
      "source": [
        "import numpy as np\n",
        "import pandas as pd"
      ],
      "execution_count": null,
      "outputs": []
    },
    {
      "cell_type": "code",
      "metadata": {
        "colab": {
          "base_uri": "https://localhost:8080/",
          "height": 206
        },
        "id": "wnDq_jebUg7i",
        "outputId": "5a66b662-5470-4147-cc9d-1aa7b194def5"
      },
      "source": [
        "data = pd.read_csv(\"/content/drive/MyDrive/AI Data/oasis_longitudinal.csv\")\n",
        "data.head()"
      ],
      "execution_count": null,
      "outputs": [
        {
          "data": {
            "text/html": [
              "<div>\n",
              "<style scoped>\n",
              "    .dataframe tbody tr th:only-of-type {\n",
              "        vertical-align: middle;\n",
              "    }\n",
              "\n",
              "    .dataframe tbody tr th {\n",
              "        vertical-align: top;\n",
              "    }\n",
              "\n",
              "    .dataframe thead th {\n",
              "        text-align: right;\n",
              "    }\n",
              "</style>\n",
              "<table border=\"1\" class=\"dataframe\">\n",
              "  <thead>\n",
              "    <tr style=\"text-align: right;\">\n",
              "      <th></th>\n",
              "      <th>Subject ID</th>\n",
              "      <th>MRI ID</th>\n",
              "      <th>Group</th>\n",
              "      <th>Visit</th>\n",
              "      <th>MR Delay</th>\n",
              "      <th>M/F</th>\n",
              "      <th>Hand</th>\n",
              "      <th>Age</th>\n",
              "      <th>EDUC</th>\n",
              "      <th>SES</th>\n",
              "      <th>MMSE</th>\n",
              "      <th>CDR</th>\n",
              "      <th>eTIV</th>\n",
              "      <th>nWBV</th>\n",
              "      <th>ASF</th>\n",
              "    </tr>\n",
              "  </thead>\n",
              "  <tbody>\n",
              "    <tr>\n",
              "      <th>0</th>\n",
              "      <td>OAS2_0001</td>\n",
              "      <td>OAS2_0001_MR1</td>\n",
              "      <td>Nondemented</td>\n",
              "      <td>1</td>\n",
              "      <td>0</td>\n",
              "      <td>M</td>\n",
              "      <td>R</td>\n",
              "      <td>87</td>\n",
              "      <td>14</td>\n",
              "      <td>2.0</td>\n",
              "      <td>27.0</td>\n",
              "      <td>0.0</td>\n",
              "      <td>1987</td>\n",
              "      <td>0.696</td>\n",
              "      <td>0.883</td>\n",
              "    </tr>\n",
              "    <tr>\n",
              "      <th>1</th>\n",
              "      <td>OAS2_0001</td>\n",
              "      <td>OAS2_0001_MR2</td>\n",
              "      <td>Nondemented</td>\n",
              "      <td>2</td>\n",
              "      <td>457</td>\n",
              "      <td>M</td>\n",
              "      <td>R</td>\n",
              "      <td>88</td>\n",
              "      <td>14</td>\n",
              "      <td>2.0</td>\n",
              "      <td>30.0</td>\n",
              "      <td>0.0</td>\n",
              "      <td>2004</td>\n",
              "      <td>0.681</td>\n",
              "      <td>0.876</td>\n",
              "    </tr>\n",
              "    <tr>\n",
              "      <th>2</th>\n",
              "      <td>OAS2_0002</td>\n",
              "      <td>OAS2_0002_MR1</td>\n",
              "      <td>Demented</td>\n",
              "      <td>1</td>\n",
              "      <td>0</td>\n",
              "      <td>M</td>\n",
              "      <td>R</td>\n",
              "      <td>75</td>\n",
              "      <td>12</td>\n",
              "      <td>NaN</td>\n",
              "      <td>23.0</td>\n",
              "      <td>0.5</td>\n",
              "      <td>1678</td>\n",
              "      <td>0.736</td>\n",
              "      <td>1.046</td>\n",
              "    </tr>\n",
              "    <tr>\n",
              "      <th>3</th>\n",
              "      <td>OAS2_0002</td>\n",
              "      <td>OAS2_0002_MR2</td>\n",
              "      <td>Demented</td>\n",
              "      <td>2</td>\n",
              "      <td>560</td>\n",
              "      <td>M</td>\n",
              "      <td>R</td>\n",
              "      <td>76</td>\n",
              "      <td>12</td>\n",
              "      <td>NaN</td>\n",
              "      <td>28.0</td>\n",
              "      <td>0.5</td>\n",
              "      <td>1738</td>\n",
              "      <td>0.713</td>\n",
              "      <td>1.010</td>\n",
              "    </tr>\n",
              "    <tr>\n",
              "      <th>4</th>\n",
              "      <td>OAS2_0002</td>\n",
              "      <td>OAS2_0002_MR3</td>\n",
              "      <td>Demented</td>\n",
              "      <td>3</td>\n",
              "      <td>1895</td>\n",
              "      <td>M</td>\n",
              "      <td>R</td>\n",
              "      <td>80</td>\n",
              "      <td>12</td>\n",
              "      <td>NaN</td>\n",
              "      <td>22.0</td>\n",
              "      <td>0.5</td>\n",
              "      <td>1698</td>\n",
              "      <td>0.701</td>\n",
              "      <td>1.034</td>\n",
              "    </tr>\n",
              "  </tbody>\n",
              "</table>\n",
              "</div>"
            ],
            "text/plain": [
              "  Subject ID         MRI ID        Group  Visit  ...  CDR  eTIV   nWBV    ASF\n",
              "0  OAS2_0001  OAS2_0001_MR1  Nondemented      1  ...  0.0  1987  0.696  0.883\n",
              "1  OAS2_0001  OAS2_0001_MR2  Nondemented      2  ...  0.0  2004  0.681  0.876\n",
              "2  OAS2_0002  OAS2_0002_MR1     Demented      1  ...  0.5  1678  0.736  1.046\n",
              "3  OAS2_0002  OAS2_0002_MR2     Demented      2  ...  0.5  1738  0.713  1.010\n",
              "4  OAS2_0002  OAS2_0002_MR3     Demented      3  ...  0.5  1698  0.701  1.034\n",
              "\n",
              "[5 rows x 15 columns]"
            ]
          },
          "execution_count": 3,
          "metadata": {},
          "output_type": "execute_result"
        }
      ]
    },
    {
      "cell_type": "code",
      "metadata": {
        "colab": {
          "base_uri": "https://localhost:8080/"
        },
        "id": "XASl1RMUUx7Z",
        "outputId": "88052784-dd86-45a4-82ea-1a96beedb517"
      },
      "source": [
        "data.drop(['Subject ID','MRI ID','Hand','Visit','MR Delay'], axis = 1, inplace = True)\n",
        "# Checking for null values\n",
        "print(data.info())"
      ],
      "execution_count": null,
      "outputs": [
        {
          "name": "stdout",
          "output_type": "stream",
          "text": [
            "<class 'pandas.core.frame.DataFrame'>\n",
            "RangeIndex: 373 entries, 0 to 372\n",
            "Data columns (total 10 columns):\n",
            " #   Column  Non-Null Count  Dtype  \n",
            "---  ------  --------------  -----  \n",
            " 0   Group   373 non-null    object \n",
            " 1   M/F     373 non-null    object \n",
            " 2   Age     373 non-null    int64  \n",
            " 3   EDUC    373 non-null    int64  \n",
            " 4   SES     354 non-null    float64\n",
            " 5   MMSE    371 non-null    float64\n",
            " 6   CDR     373 non-null    float64\n",
            " 7   eTIV    373 non-null    int64  \n",
            " 8   nWBV    373 non-null    float64\n",
            " 9   ASF     373 non-null    float64\n",
            "dtypes: float64(5), int64(3), object(2)\n",
            "memory usage: 29.3+ KB\n",
            "None\n"
          ]
        }
      ]
    },
    {
      "cell_type": "code",
      "metadata": {
        "colab": {
          "base_uri": "https://localhost:8080/"
        },
        "id": "eSPAL5XeoMfl",
        "outputId": "c43c7ef1-c6bb-4548-8a31-6ffe457a9ca4"
      },
      "source": [
        "pd.isnull(data).sum() "
      ],
      "execution_count": null,
      "outputs": [
        {
          "data": {
            "text/plain": [
              "Group     0\n",
              "M/F       0\n",
              "Age       0\n",
              "EDUC      0\n",
              "SES      19\n",
              "MMSE      2\n",
              "CDR       0\n",
              "eTIV      0\n",
              "nWBV      0\n",
              "ASF       0\n",
              "dtype: int64"
            ]
          },
          "execution_count": 5,
          "metadata": {},
          "output_type": "execute_result"
        }
      ]
    },
    {
      "cell_type": "code",
      "metadata": {
        "colab": {
          "base_uri": "https://localhost:8080/"
        },
        "id": "0xrqLcBkoz3U",
        "outputId": "7fa37bd2-ce1f-4819-9365-f1a0acf06309"
      },
      "source": [
        "data = data.dropna(axis=0, how='any')\n",
        "pd.isnull(data).sum()"
      ],
      "execution_count": null,
      "outputs": [
        {
          "data": {
            "text/plain": [
              "Group    0\n",
              "M/F      0\n",
              "Age      0\n",
              "EDUC     0\n",
              "SES      0\n",
              "MMSE     0\n",
              "CDR      0\n",
              "eTIV     0\n",
              "nWBV     0\n",
              "ASF      0\n",
              "dtype: int64"
            ]
          },
          "execution_count": 6,
          "metadata": {},
          "output_type": "execute_result"
        }
      ]
    },
    {
      "cell_type": "code",
      "metadata": {
        "colab": {
          "base_uri": "https://localhost:8080/",
          "height": 423
        },
        "id": "c6P_kaBzVGmZ",
        "outputId": "88b7efeb-fb74-41c6-c0ca-2c0389b06206"
      },
      "source": [
        "# Converting the categorical variable into numerical\n",
        "varlist1 =  ['M/F']\n",
        "varlist2 = ['Group']\n",
        "\n",
        "# Defining the map function\n",
        "def binary_map1(x):\n",
        "    return x.map({'M': 1, \"F\": 0})\n",
        "def binary_map2(y):\n",
        "    return y.map({'Demented' : 1, 'Nondemented' : 0, 'Converted' : 0})\n",
        "\n",
        "data[varlist1] = data[varlist1].apply(binary_map1)\n",
        "data[varlist2] = data[varlist2].apply(binary_map2)\n",
        "\n",
        "data"
      ],
      "execution_count": null,
      "outputs": [
        {
          "data": {
            "text/html": [
              "<div>\n",
              "<style scoped>\n",
              "    .dataframe tbody tr th:only-of-type {\n",
              "        vertical-align: middle;\n",
              "    }\n",
              "\n",
              "    .dataframe tbody tr th {\n",
              "        vertical-align: top;\n",
              "    }\n",
              "\n",
              "    .dataframe thead th {\n",
              "        text-align: right;\n",
              "    }\n",
              "</style>\n",
              "<table border=\"1\" class=\"dataframe\">\n",
              "  <thead>\n",
              "    <tr style=\"text-align: right;\">\n",
              "      <th></th>\n",
              "      <th>Group</th>\n",
              "      <th>M/F</th>\n",
              "      <th>Age</th>\n",
              "      <th>EDUC</th>\n",
              "      <th>SES</th>\n",
              "      <th>MMSE</th>\n",
              "      <th>CDR</th>\n",
              "      <th>eTIV</th>\n",
              "      <th>nWBV</th>\n",
              "      <th>ASF</th>\n",
              "    </tr>\n",
              "  </thead>\n",
              "  <tbody>\n",
              "    <tr>\n",
              "      <th>0</th>\n",
              "      <td>0</td>\n",
              "      <td>1</td>\n",
              "      <td>87</td>\n",
              "      <td>14</td>\n",
              "      <td>2.0</td>\n",
              "      <td>27.0</td>\n",
              "      <td>0.0</td>\n",
              "      <td>1987</td>\n",
              "      <td>0.696</td>\n",
              "      <td>0.883</td>\n",
              "    </tr>\n",
              "    <tr>\n",
              "      <th>1</th>\n",
              "      <td>0</td>\n",
              "      <td>1</td>\n",
              "      <td>88</td>\n",
              "      <td>14</td>\n",
              "      <td>2.0</td>\n",
              "      <td>30.0</td>\n",
              "      <td>0.0</td>\n",
              "      <td>2004</td>\n",
              "      <td>0.681</td>\n",
              "      <td>0.876</td>\n",
              "    </tr>\n",
              "    <tr>\n",
              "      <th>5</th>\n",
              "      <td>0</td>\n",
              "      <td>0</td>\n",
              "      <td>88</td>\n",
              "      <td>18</td>\n",
              "      <td>3.0</td>\n",
              "      <td>28.0</td>\n",
              "      <td>0.0</td>\n",
              "      <td>1215</td>\n",
              "      <td>0.710</td>\n",
              "      <td>1.444</td>\n",
              "    </tr>\n",
              "    <tr>\n",
              "      <th>6</th>\n",
              "      <td>0</td>\n",
              "      <td>0</td>\n",
              "      <td>90</td>\n",
              "      <td>18</td>\n",
              "      <td>3.0</td>\n",
              "      <td>27.0</td>\n",
              "      <td>0.0</td>\n",
              "      <td>1200</td>\n",
              "      <td>0.718</td>\n",
              "      <td>1.462</td>\n",
              "    </tr>\n",
              "    <tr>\n",
              "      <th>7</th>\n",
              "      <td>0</td>\n",
              "      <td>1</td>\n",
              "      <td>80</td>\n",
              "      <td>12</td>\n",
              "      <td>4.0</td>\n",
              "      <td>28.0</td>\n",
              "      <td>0.0</td>\n",
              "      <td>1689</td>\n",
              "      <td>0.712</td>\n",
              "      <td>1.039</td>\n",
              "    </tr>\n",
              "    <tr>\n",
              "      <th>...</th>\n",
              "      <td>...</td>\n",
              "      <td>...</td>\n",
              "      <td>...</td>\n",
              "      <td>...</td>\n",
              "      <td>...</td>\n",
              "      <td>...</td>\n",
              "      <td>...</td>\n",
              "      <td>...</td>\n",
              "      <td>...</td>\n",
              "      <td>...</td>\n",
              "    </tr>\n",
              "    <tr>\n",
              "      <th>368</th>\n",
              "      <td>1</td>\n",
              "      <td>1</td>\n",
              "      <td>82</td>\n",
              "      <td>16</td>\n",
              "      <td>1.0</td>\n",
              "      <td>28.0</td>\n",
              "      <td>0.5</td>\n",
              "      <td>1693</td>\n",
              "      <td>0.694</td>\n",
              "      <td>1.037</td>\n",
              "    </tr>\n",
              "    <tr>\n",
              "      <th>369</th>\n",
              "      <td>1</td>\n",
              "      <td>1</td>\n",
              "      <td>86</td>\n",
              "      <td>16</td>\n",
              "      <td>1.0</td>\n",
              "      <td>26.0</td>\n",
              "      <td>0.5</td>\n",
              "      <td>1688</td>\n",
              "      <td>0.675</td>\n",
              "      <td>1.040</td>\n",
              "    </tr>\n",
              "    <tr>\n",
              "      <th>370</th>\n",
              "      <td>0</td>\n",
              "      <td>0</td>\n",
              "      <td>61</td>\n",
              "      <td>13</td>\n",
              "      <td>2.0</td>\n",
              "      <td>30.0</td>\n",
              "      <td>0.0</td>\n",
              "      <td>1319</td>\n",
              "      <td>0.801</td>\n",
              "      <td>1.331</td>\n",
              "    </tr>\n",
              "    <tr>\n",
              "      <th>371</th>\n",
              "      <td>0</td>\n",
              "      <td>0</td>\n",
              "      <td>63</td>\n",
              "      <td>13</td>\n",
              "      <td>2.0</td>\n",
              "      <td>30.0</td>\n",
              "      <td>0.0</td>\n",
              "      <td>1327</td>\n",
              "      <td>0.796</td>\n",
              "      <td>1.323</td>\n",
              "    </tr>\n",
              "    <tr>\n",
              "      <th>372</th>\n",
              "      <td>0</td>\n",
              "      <td>0</td>\n",
              "      <td>65</td>\n",
              "      <td>13</td>\n",
              "      <td>2.0</td>\n",
              "      <td>30.0</td>\n",
              "      <td>0.0</td>\n",
              "      <td>1333</td>\n",
              "      <td>0.801</td>\n",
              "      <td>1.317</td>\n",
              "    </tr>\n",
              "  </tbody>\n",
              "</table>\n",
              "<p>354 rows × 10 columns</p>\n",
              "</div>"
            ],
            "text/plain": [
              "     Group  M/F  Age  EDUC  SES  MMSE  CDR  eTIV   nWBV    ASF\n",
              "0        0    1   87    14  2.0  27.0  0.0  1987  0.696  0.883\n",
              "1        0    1   88    14  2.0  30.0  0.0  2004  0.681  0.876\n",
              "5        0    0   88    18  3.0  28.0  0.0  1215  0.710  1.444\n",
              "6        0    0   90    18  3.0  27.0  0.0  1200  0.718  1.462\n",
              "7        0    1   80    12  4.0  28.0  0.0  1689  0.712  1.039\n",
              "..     ...  ...  ...   ...  ...   ...  ...   ...    ...    ...\n",
              "368      1    1   82    16  1.0  28.0  0.5  1693  0.694  1.037\n",
              "369      1    1   86    16  1.0  26.0  0.5  1688  0.675  1.040\n",
              "370      0    0   61    13  2.0  30.0  0.0  1319  0.801  1.331\n",
              "371      0    0   63    13  2.0  30.0  0.0  1327  0.796  1.323\n",
              "372      0    0   65    13  2.0  30.0  0.0  1333  0.801  1.317\n",
              "\n",
              "[354 rows x 10 columns]"
            ]
          },
          "execution_count": 7,
          "metadata": {},
          "output_type": "execute_result"
        }
      ]
    },
    {
      "cell_type": "code",
      "metadata": {
        "colab": {
          "background_save": true
        },
        "id": "RAX4Rn89moz4",
        "outputId": "2aa73661-7e8a-400a-a072-685239d5b33f"
      },
      "source": [
        "from sklearn.preprocessing import MinMaxScaler\n",
        "scaler = MinMaxScaler()\n",
        "\n",
        "# Applying scaler() to all the columns except the 'yes-no' and 'dummy' variables\n",
        "num_vars = ['Age', 'EDUC', 'SES', 'MMSE', 'eTIV', 'ASF']\n",
        "data[num_vars] = scaler.fit_transform(data[num_vars])\n",
        "\n",
        "data"
      ],
      "execution_count": null,
      "outputs": [
        {
          "data": {
            "text/html": [
              "<div>\n",
              "<style scoped>\n",
              "    .dataframe tbody tr th:only-of-type {\n",
              "        vertical-align: middle;\n",
              "    }\n",
              "\n",
              "    .dataframe tbody tr th {\n",
              "        vertical-align: top;\n",
              "    }\n",
              "\n",
              "    .dataframe thead th {\n",
              "        text-align: right;\n",
              "    }\n",
              "</style>\n",
              "<table border=\"1\" class=\"dataframe\">\n",
              "  <thead>\n",
              "    <tr style=\"text-align: right;\">\n",
              "      <th></th>\n",
              "      <th>Group</th>\n",
              "      <th>M/F</th>\n",
              "      <th>Age</th>\n",
              "      <th>EDUC</th>\n",
              "      <th>SES</th>\n",
              "      <th>MMSE</th>\n",
              "      <th>CDR</th>\n",
              "      <th>eTIV</th>\n",
              "      <th>nWBV</th>\n",
              "      <th>ASF</th>\n",
              "    </tr>\n",
              "  </thead>\n",
              "  <tbody>\n",
              "    <tr>\n",
              "      <th>0</th>\n",
              "      <td>0</td>\n",
              "      <td>1</td>\n",
              "      <td>0.710526</td>\n",
              "      <td>0.470588</td>\n",
              "      <td>0.25</td>\n",
              "      <td>0.884615</td>\n",
              "      <td>0.0</td>\n",
              "      <td>0.981069</td>\n",
              "      <td>0.696</td>\n",
              "      <td>0.009845</td>\n",
              "    </tr>\n",
              "    <tr>\n",
              "      <th>1</th>\n",
              "      <td>0</td>\n",
              "      <td>1</td>\n",
              "      <td>0.736842</td>\n",
              "      <td>0.470588</td>\n",
              "      <td>0.25</td>\n",
              "      <td>1.000000</td>\n",
              "      <td>0.0</td>\n",
              "      <td>1.000000</td>\n",
              "      <td>0.681</td>\n",
              "      <td>0.000000</td>\n",
              "    </tr>\n",
              "    <tr>\n",
              "      <th>5</th>\n",
              "      <td>0</td>\n",
              "      <td>0</td>\n",
              "      <td>0.736842</td>\n",
              "      <td>0.705882</td>\n",
              "      <td>0.50</td>\n",
              "      <td>0.923077</td>\n",
              "      <td>0.0</td>\n",
              "      <td>0.121381</td>\n",
              "      <td>0.710</td>\n",
              "      <td>0.798875</td>\n",
              "    </tr>\n",
              "    <tr>\n",
              "      <th>6</th>\n",
              "      <td>0</td>\n",
              "      <td>0</td>\n",
              "      <td>0.789474</td>\n",
              "      <td>0.705882</td>\n",
              "      <td>0.50</td>\n",
              "      <td>0.884615</td>\n",
              "      <td>0.0</td>\n",
              "      <td>0.104677</td>\n",
              "      <td>0.718</td>\n",
              "      <td>0.824191</td>\n",
              "    </tr>\n",
              "    <tr>\n",
              "      <th>7</th>\n",
              "      <td>0</td>\n",
              "      <td>1</td>\n",
              "      <td>0.526316</td>\n",
              "      <td>0.352941</td>\n",
              "      <td>0.75</td>\n",
              "      <td>0.923077</td>\n",
              "      <td>0.0</td>\n",
              "      <td>0.649220</td>\n",
              "      <td>0.712</td>\n",
              "      <td>0.229255</td>\n",
              "    </tr>\n",
              "    <tr>\n",
              "      <th>...</th>\n",
              "      <td>...</td>\n",
              "      <td>...</td>\n",
              "      <td>...</td>\n",
              "      <td>...</td>\n",
              "      <td>...</td>\n",
              "      <td>...</td>\n",
              "      <td>...</td>\n",
              "      <td>...</td>\n",
              "      <td>...</td>\n",
              "      <td>...</td>\n",
              "    </tr>\n",
              "    <tr>\n",
              "      <th>368</th>\n",
              "      <td>1</td>\n",
              "      <td>1</td>\n",
              "      <td>0.578947</td>\n",
              "      <td>0.588235</td>\n",
              "      <td>0.00</td>\n",
              "      <td>0.923077</td>\n",
              "      <td>0.5</td>\n",
              "      <td>0.653675</td>\n",
              "      <td>0.694</td>\n",
              "      <td>0.226442</td>\n",
              "    </tr>\n",
              "    <tr>\n",
              "      <th>369</th>\n",
              "      <td>1</td>\n",
              "      <td>1</td>\n",
              "      <td>0.684211</td>\n",
              "      <td>0.588235</td>\n",
              "      <td>0.00</td>\n",
              "      <td>0.846154</td>\n",
              "      <td>0.5</td>\n",
              "      <td>0.648107</td>\n",
              "      <td>0.675</td>\n",
              "      <td>0.230661</td>\n",
              "    </tr>\n",
              "    <tr>\n",
              "      <th>370</th>\n",
              "      <td>0</td>\n",
              "      <td>0</td>\n",
              "      <td>0.026316</td>\n",
              "      <td>0.411765</td>\n",
              "      <td>0.25</td>\n",
              "      <td>1.000000</td>\n",
              "      <td>0.0</td>\n",
              "      <td>0.237194</td>\n",
              "      <td>0.801</td>\n",
              "      <td>0.639944</td>\n",
              "    </tr>\n",
              "    <tr>\n",
              "      <th>371</th>\n",
              "      <td>0</td>\n",
              "      <td>0</td>\n",
              "      <td>0.078947</td>\n",
              "      <td>0.411765</td>\n",
              "      <td>0.25</td>\n",
              "      <td>1.000000</td>\n",
              "      <td>0.0</td>\n",
              "      <td>0.246102</td>\n",
              "      <td>0.796</td>\n",
              "      <td>0.628692</td>\n",
              "    </tr>\n",
              "    <tr>\n",
              "      <th>372</th>\n",
              "      <td>0</td>\n",
              "      <td>0</td>\n",
              "      <td>0.131579</td>\n",
              "      <td>0.411765</td>\n",
              "      <td>0.25</td>\n",
              "      <td>1.000000</td>\n",
              "      <td>0.0</td>\n",
              "      <td>0.252784</td>\n",
              "      <td>0.801</td>\n",
              "      <td>0.620253</td>\n",
              "    </tr>\n",
              "  </tbody>\n",
              "</table>\n",
              "<p>354 rows × 10 columns</p>\n",
              "</div>"
            ],
            "text/plain": [
              "     Group  M/F       Age      EDUC  ...  CDR      eTIV   nWBV       ASF\n",
              "0        0    1  0.710526  0.470588  ...  0.0  0.981069  0.696  0.009845\n",
              "1        0    1  0.736842  0.470588  ...  0.0  1.000000  0.681  0.000000\n",
              "5        0    0  0.736842  0.705882  ...  0.0  0.121381  0.710  0.798875\n",
              "6        0    0  0.789474  0.705882  ...  0.0  0.104677  0.718  0.824191\n",
              "7        0    1  0.526316  0.352941  ...  0.0  0.649220  0.712  0.229255\n",
              "..     ...  ...       ...       ...  ...  ...       ...    ...       ...\n",
              "368      1    1  0.578947  0.588235  ...  0.5  0.653675  0.694  0.226442\n",
              "369      1    1  0.684211  0.588235  ...  0.5  0.648107  0.675  0.230661\n",
              "370      0    0  0.026316  0.411765  ...  0.0  0.237194  0.801  0.639944\n",
              "371      0    0  0.078947  0.411765  ...  0.0  0.246102  0.796  0.628692\n",
              "372      0    0  0.131579  0.411765  ...  0.0  0.252784  0.801  0.620253\n",
              "\n",
              "[354 rows x 10 columns]"
            ]
          },
          "execution_count": null,
          "metadata": {},
          "output_type": "execute_result"
        }
      ]
    },
    {
      "cell_type": "code",
      "metadata": {
        "id": "de-YuZ6W01T6"
      },
      "source": [
        "from sklearn.model_selection import train_test_split\n",
        "df_train, df_test = train_test_split(data, train_size = 0.5, test_size = 0.5, random_state = 10)"
      ],
      "execution_count": null,
      "outputs": []
    },
    {
      "cell_type": "code",
      "metadata": {
        "id": "J900a2ha1Ij9"
      },
      "source": [
        "y_train = df_train.pop('Group')\n",
        "X_train = df_train\n",
        "y_test = df_test.pop('Group')\n",
        "X_test = df_test"
      ],
      "execution_count": null,
      "outputs": []
    },
    {
      "cell_type": "code",
      "metadata": {
        "colab": {
          "base_uri": "https://localhost:8080/"
        },
        "id": "nvajq0Hm1Qaq",
        "outputId": "ae8ef0eb-a7b4-472c-d659-0b6250b74f78"
      },
      "source": [
        "from sklearn.linear_model import LogisticRegression\n",
        "lr_model = LogisticRegression()\n",
        "lr_model.fit(X_train,y_train)"
      ],
      "execution_count": null,
      "outputs": [
        {
          "output_type": "execute_result",
          "data": {
            "text/plain": [
              "LogisticRegression()"
            ]
          },
          "metadata": {},
          "execution_count": 12
        }
      ]
    },
    {
      "cell_type": "code",
      "metadata": {
        "id": "Kh12XGQGYPvS"
      },
      "source": [
        "y_pred_train = lr_model.predict(X_train)\n",
        "y_pred_test = lr_model.predict(X_test)"
      ],
      "execution_count": null,
      "outputs": []
    },
    {
      "cell_type": "code",
      "metadata": {
        "colab": {
          "base_uri": "https://localhost:8080/"
        },
        "id": "sjaZPjxiKjcA",
        "outputId": "91bacf40-11e9-45c5-8539-9b8660255d62"
      },
      "source": [
        "import math\n",
        "from sklearn.metrics import mean_squared_error \n",
        "from sklearn.metrics import mean_absolute_error\n",
        "\n",
        "#Training Accuracies\n",
        "rmse = math.sqrt(mean_squared_error(y_train, y_pred_train)) \n",
        "print('Root mean square error', rmse) \n",
        "mse = (mean_squared_error(y_train, y_pred_train)) \n",
        "print('Mean square error', mse) \n",
        "mae=mean_absolute_error(y_train, y_pred_train)\n",
        "print('Mean absolute error', mae)"
      ],
      "execution_count": null,
      "outputs": [
        {
          "output_type": "stream",
          "name": "stdout",
          "text": [
            "Root mean square error 0.22549380840084865\n",
            "Mean square error 0.05084745762711865\n",
            "Mean absolute error 0.05084745762711865\n"
          ]
        }
      ]
    },
    {
      "cell_type": "code",
      "metadata": {
        "colab": {
          "base_uri": "https://localhost:8080/"
        },
        "id": "Pp6kQ9RnLGJt",
        "outputId": "680a97cc-2f5f-44f3-ff17-f07d7bac53d5"
      },
      "source": [
        "#Testing Accuracies\n",
        "rmse = math.sqrt(mean_squared_error(y_test, y_pred_test)) \n",
        "print('Root mean square error', rmse) \n",
        "mse = (mean_squared_error(y_test, y_pred_test)) \n",
        "print('Mean square error', mse) \n",
        "mae=mean_absolute_error(y_test, y_pred_test)\n",
        "print('Mean absolute error', mae)"
      ],
      "execution_count": null,
      "outputs": [
        {
          "output_type": "stream",
          "name": "stdout",
          "text": [
            "Root mean square error 0.21259760138109354\n",
            "Mean square error 0.04519774011299435\n",
            "Mean absolute error 0.04519774011299435\n"
          ]
        }
      ]
    },
    {
      "cell_type": "code",
      "metadata": {
        "colab": {
          "base_uri": "https://localhost:8080/"
        },
        "id": "7Gmn9XPIYTsp",
        "outputId": "41021408-8893-4832-b150-0bfd80016212"
      },
      "source": [
        "print(\" Training Accuracy\",lr_model.score(X_train, y_train))\n",
        "print(\" Testing Accuracy\",lr_model.score(X_test, y_test))"
      ],
      "execution_count": null,
      "outputs": [
        {
          "output_type": "stream",
          "name": "stdout",
          "text": [
            " Training Accuracy 0.9491525423728814\n",
            " Testing Accuracy 0.9548022598870056\n"
          ]
        }
      ]
    },
    {
      "cell_type": "code",
      "metadata": {
        "colab": {
          "base_uri": "https://localhost:8080/"
        },
        "id": "WhiwYYZFYdnH",
        "outputId": "877a1ad0-7df6-47ee-c183-f2cc1fb1e5a8"
      },
      "source": [
        "from sklearn.metrics import confusion_matrix\n",
        "confusion_matrix(y_test, y_pred_test)"
      ],
      "execution_count": null,
      "outputs": [
        {
          "output_type": "execute_result",
          "data": {
            "text/plain": [
              "array([[109,   8],\n",
              "       [  0,  60]])"
            ]
          },
          "metadata": {},
          "execution_count": 17
        }
      ]
    },
    {
      "cell_type": "code",
      "metadata": {
        "colab": {
          "base_uri": "https://localhost:8080/"
        },
        "id": "A5Ae2fveYh68",
        "outputId": "a736f253-5a99-4f8a-edee-4d7ec583fd97"
      },
      "source": [
        "confusion_matrix(y_train, y_pred_train)"
      ],
      "execution_count": null,
      "outputs": [
        {
          "output_type": "execute_result",
          "data": {
            "text/plain": [
              "array([[104,   6],\n",
              "       [  3,  64]])"
            ]
          },
          "metadata": {},
          "execution_count": 18
        }
      ]
    },
    {
      "cell_type": "code",
      "metadata": {
        "id": "qBsKJt9wYnyQ"
      },
      "source": [
        "import pickle\n",
        "# Save the model\n",
        "filename = 'model.pkl'\n",
        "pickle.dump(lr_model, open(filename, 'wb'))"
      ],
      "execution_count": null,
      "outputs": []
    },
    {
      "cell_type": "code",
      "metadata": {
        "colab": {
          "base_uri": "https://localhost:8080/"
        },
        "id": "GjjpT5QcY0o3",
        "outputId": "e479e8cc-faf2-4db1-a9f5-c67ea416e05e"
      },
      "source": [
        "list_of_columns = data.columns\n",
        "input_data=pd.DataFrame(columns=list_of_columns)\n",
        "input_data.drop(['Group'], axis='columns', inplace=True)\n",
        "\n",
        "input_data.at[0, 'M/F'] = input('enter Gender : ')\n",
        "input_data.at[0, 'Age'] = int(input('enter Age : '))\n",
        "input_data.at[0, 'EDUC'] = int(input('enter education : '))\n",
        "input_data.at[0, 'SES'] = int(input('enter SES : '))\n",
        "input_data.at[0, 'MMSE'] = int(input('enter MMSE : '))\n",
        "input_data.at[0, 'CDR'] = float(input('enter CDR : '))\n",
        "input_data.at[0, 'eTIV'] = int(input('enter eTIV : '))\n",
        "input_data.at[0, 'nWBV'] = float(input('enter nWBV : '))\n",
        "input_data.at[0, 'ASF'] = float(input('enter ASF : '))\n",
        "\n",
        "# Defining the map function\n",
        "def binary_map(x):\n",
        "    return x.map({'M': 1, \"F\": 0})\n",
        "\n",
        "input_data[varlist1] = input_data[varlist1].apply(binary_map)\n",
        "\n",
        "\n",
        "input_data['Age']=(input_data['Age']-data['Age'].min())/(data['Age'].max()-data['Age'].min())\n",
        "input_data['EDUC']=(input_data['EDUC']-data['EDUC'].min())/(data['EDUC'].max()-data['EDUC'].min())\n",
        "input_data['SES']=(input_data['SES']-data['SES'].min())/(data['SES'].max()-data['SES'].min())\n",
        "input_data['MMSE']=(input_data['MMSE']-data['MMSE'].min())/(data['MMSE'].max()-data['MMSE'].min())\n",
        "input_data['CDR']=(input_data['CDR']-data['CDR'].min())/(data['CDR'].max()-data['CDR'].min())\n",
        "input_data['eTIV']=(input_data['eTIV']-data['eTIV'].min())/(data['eTIV'].max()-data['eTIV'].min())\n",
        "input_data['nWBV']=(input_data['nWBV']-data['nWBV'].min())/(data['nWBV'].max()-data['nWBV'].min())\n",
        "input_data['ASF']=(input_data['ASF']-data['ASF'].min())/(data['ASF'].max()-data['ASF'].min())\n",
        "y_pred =  lr_model.predict(input_data)\n",
        "\n",
        "if(y_pred[0]==1):\n",
        "  print('Will suffer with Alzheimers disease')\n",
        "if(y_pred[0]==0):\n",
        "  print('Will not suffer with alzheimers disease')"
      ],
      "execution_count": null,
      "outputs": [
        {
          "name": "stdout",
          "output_type": "stream",
          "text": [
            "enter Gender : M\n",
            "enter Age : 87\n",
            "enter education : 14\n",
            "enter SES : 2\n",
            "enter MMSE : 27\n",
            "enter CDR : 0\n",
            "enter eTIV : 1987\n",
            "enter nWBV : 0.696\n",
            "enter ASF : 0.883\n",
            "Will not suffer with alzheimers disease\n"
          ]
        }
      ]
    }
  ]
}