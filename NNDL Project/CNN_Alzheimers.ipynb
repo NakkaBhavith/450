{
  "cells": [
    {
      "cell_type": "code",
      "execution_count": 1,
      "metadata": {
        "id": "j5mUKkQXpWpF"
      },
      "outputs": [],
      "source": [
        "import numpy as np\n",
        "import pandas as pd\n",
        "import seaborn as sns\n",
        "import tensorflow as tf\n",
        "import matplotlib.pyplot as plt\n",
        "\n",
        "import os\n",
        "from distutils.dir_util import copy_tree, remove_tree\n",
        "\n",
        "from PIL import Image\n",
        "from random import randint\n",
        "\n",
        "from imblearn.over_sampling import SMOTE\n",
        "from sklearn.model_selection import train_test_split\n",
        "from sklearn.metrics import matthews_corrcoef as MCC\n",
        "from sklearn.metrics import balanced_accuracy_score as BAS\n",
        "from sklearn.metrics import classification_report, confusion_matrix\n",
        "\n",
        "import tensorflow as tf\n",
        "from keras.utils.vis_utils import plot_model\n",
        "from tensorflow.keras import Sequential, Input\n",
        "from tensorflow.keras.layers import Dense, Dropout\n",
        "from tensorflow.keras.layers import Convolution2D, Flatten\n",
        "from tensorflow.keras.callbacks import EarlyStopping\n",
        "from keras.preprocessing import image\n",
        "from keras.preprocessing.image import ImageDataGenerator\n",
        "from tensorflow.keras.preprocessing.image import ImageDataGenerator as IDG\n",
        "from tensorflow.keras.layers import SeparableConv2D, BatchNormalization, MaxPooling2D\n",
        "from keras.applications.vgg16 import preprocess_input"
      ]
    },
    {
      "cell_type": "code",
      "execution_count": null,
      "metadata": {
        "colab": {
          "base_uri": "https://localhost:8080/"
        },
        "id": "JPB63WPygSZr",
        "outputId": "f772b57a-a160-4088-ec46-219daad82e4f"
      },
      "outputs": [
        {
          "name": "stdout",
          "output_type": "stream",
          "text": [
            "Working Directory Contents: ['NonDemented', 'ModerateDemented', 'VeryMildDemented', 'MildDemented']\n"
          ]
        }
      ],
      "source": [
        "#default_dir = \"/content/drive/MyDrive/AI Data/Alzheimers Dataset/\"\n",
        "#root_dir = \"./\"\n",
        "#test_dir = default_dir + \"test/\"\n",
        "#train_dir = default_dir + \"train/\"\n",
        "#work_dir = root_dir + \"dataset/\"\n",
        "#if os.path.exists(work_dir):\n",
        "#    remove_tree(work_dir)\n",
        "#os.mkdir(work_dir)\n",
        "#copy_tree(train_dir, work_dir)\n",
        "#copy_tree(test_dir, work_dir)\n",
        "#print(\"Working Directory Contents:\", os.listdir(work_dir))"
      ]
    },
    {
      "cell_type": "code",
      "execution_count": 2,
      "metadata": {
        "id": "c39VTSVOiOWU"
      },
      "outputs": [],
      "source": [
        "WORK_DIR = '/content/drive/MyDrive/AI Data/Alzheimers_Dataset/'\n",
        "\n",
        "CLASSES = [ 'NonDemented',\n",
        "            'VeryMildDemented',\n",
        "            'MildDemented',\n",
        "            'ModerateDemented']"
      ]
    },
    {
      "cell_type": "code",
      "execution_count": 3,
      "metadata": {
        "colab": {
          "base_uri": "https://localhost:8080/"
        },
        "id": "ki0Nm3qMh_s-",
        "outputId": "bd84df4f-6156-4b8c-80ec-4e307172985e"
      },
      "outputs": [
        {
          "name": "stdout",
          "output_type": "stream",
          "text": [
            "Found 6410 images belonging to 4 classes.\n"
          ]
        }
      ],
      "source": [
        "IMG_SIZE = 176\n",
        "IMAGE_SIZE = [176, 176]\n",
        "DIM = (IMG_SIZE, IMG_SIZE)\n",
        "ZOOM = [.99, 1.01]\n",
        "BRIGHT_RANGE = [0.8, 1.2]\n",
        "HORZ_FLIP = True\n",
        "FILL_MODE = \"constant\"\n",
        "DATA_FORMAT = \"channels_last\"\n",
        "\n",
        "work_dr = IDG(rescale = 1./255, brightness_range=BRIGHT_RANGE, zoom_range=ZOOM, data_format=DATA_FORMAT, fill_mode=FILL_MODE, horizontal_flip=HORZ_FLIP)\n",
        "\n",
        "train_data_gen = work_dr.flow_from_directory(directory=WORK_DIR, target_size=DIM, batch_size=6410, shuffle=False)"
      ]
    },
    {
      "cell_type": "code",
      "execution_count": 4,
      "metadata": {
        "id": "yiJv9iFN1FK5"
      },
      "outputs": [],
      "source": [
        "train_data, train_labels = train_data_gen.next()"
      ]
    },
    {
      "cell_type": "code",
      "execution_count": 5,
      "metadata": {
        "colab": {
          "base_uri": "https://localhost:8080/"
        },
        "id": "5-5P1N2r11bn",
        "outputId": "3b6cee50-889f-486f-8220-da54bd247538"
      },
      "outputs": [
        {
          "name": "stdout",
          "output_type": "stream",
          "text": [
            "(6410, 176, 176, 3) (6410, 4)\n"
          ]
        }
      ],
      "source": [
        "#Getting to know the dimensions of our dataset\n",
        "\n",
        "print(train_data.shape, train_labels.shape)"
      ]
    },
    {
      "cell_type": "code",
      "execution_count": null,
      "metadata": {
        "id": "6fb6gQysu-bW"
      },
      "outputs": [],
      "source": [
        "#sm = SMOTE(random_state=42)\n",
        "\n",
        "#train_data, train_labels = sm.fit_resample(train_data.reshape(-1, IMG_SIZE * IMG_SIZE * 3), train_labels)\n",
        "\n",
        "#train_data = train_data.reshape(-1, IMG_SIZE, IMG_SIZE, 3)\n",
        "\n",
        "#print(train_data.shape, train_labels.shape)"
      ]
    },
    {
      "cell_type": "code",
      "execution_count": 6,
      "metadata": {
        "id": "RXr2H9s32FAv"
      },
      "outputs": [],
      "source": [
        "#Splitting data to data train, data test, and data validation sets\n",
        "\n",
        "#train_data, test_data, train_labels, test_labels = train_test_split(train_data, train_labels, test_size = 0.3, random_state=42)\n",
        "train_data, val_data, train_labels, val_labels = train_test_split(train_data, train_labels, test_size = 0.25, random_state=42)"
      ]
    },
    {
      "cell_type": "code",
      "execution_count": 7,
      "metadata": {
        "id": "9MXnugbMek5-"
      },
      "outputs": [],
      "source": [
        "#step1 Initializing CNN\n",
        "model = Sequential()\n",
        "# step2 adding 1st Convolution layer and Pooling layer\n",
        "model.add(Convolution2D(32,(3,3),input_shape = (176,176,3), activation = 'relu'))\n",
        "model.add(MaxPooling2D(pool_size = (2, 2)))\n",
        "\n",
        "# step3 adding 2nd convolution layer and pooling layer\n",
        "model.add(Convolution2D(32,(3,3), activation = 'relu'))\n",
        "model.add(MaxPooling2D(pool_size = (2, 2)))\n",
        "\n",
        "#step4 Flattening the layers\n",
        "model.add(Flatten())\n",
        "\n",
        "#step5 Full_Connection\n",
        "model.add(Dense(units=128,activation = 'relu'))\n",
        "model.add(Dense(units=256,activation = 'relu'))\n",
        "model.add(Dense(units=512,activation = 'relu'))\n",
        "model.add(Dense(units=4,activation = 'softmax'))"
      ]
    },
    {
      "cell_type": "code",
      "execution_count": 8,
      "metadata": {
        "colab": {
          "base_uri": "https://localhost:8080/"
        },
        "id": "5pUKpg2QhJ4U",
        "outputId": "e7797ccb-cc54-49a3-d7cd-ef2f5ccbe058"
      },
      "outputs": [
        {
          "name": "stdout",
          "output_type": "stream",
          "text": [
            "Model: \"sequential\"\n",
            "_________________________________________________________________\n",
            " Layer (type)                Output Shape              Param #   \n",
            "=================================================================\n",
            " conv2d (Conv2D)             (None, 174, 174, 32)      896       \n",
            "                                                                 \n",
            " max_pooling2d (MaxPooling2D  (None, 87, 87, 32)       0         \n",
            " )                                                               \n",
            "                                                                 \n",
            " conv2d_1 (Conv2D)           (None, 85, 85, 32)        9248      \n",
            "                                                                 \n",
            " max_pooling2d_1 (MaxPooling  (None, 42, 42, 32)       0         \n",
            " 2D)                                                             \n",
            "                                                                 \n",
            " flatten (Flatten)           (None, 56448)             0         \n",
            "                                                                 \n",
            " dense (Dense)               (None, 128)               7225472   \n",
            "                                                                 \n",
            " dense_1 (Dense)             (None, 256)               33024     \n",
            "                                                                 \n",
            " dense_2 (Dense)             (None, 512)               131584    \n",
            "                                                                 \n",
            " dense_3 (Dense)             (None, 4)                 2052      \n",
            "                                                                 \n",
            "=================================================================\n",
            "Total params: 7,402,276\n",
            "Trainable params: 7,402,276\n",
            "Non-trainable params: 0\n",
            "_________________________________________________________________\n"
          ]
        }
      ],
      "source": [
        "model.summary()"
      ]
    },
    {
      "cell_type": "code",
      "execution_count": 9,
      "metadata": {
        "colab": {
          "base_uri": "https://localhost:8080/",
          "height": 953
        },
        "id": "wPtq08Z2Ntts",
        "outputId": "b4e397d3-8667-415e-ed28-61512c4a3427"
      },
      "outputs": [
        {
          "data": {
            "image/png": "[encoded data removed]",
            "text/plain": [
              "<IPython.core.display.Image object>"
            ]
          },
          "execution_count": 9,
          "metadata": {},
          "output_type": "execute_result"
        }
      ],
      "source": [
        "# plot the model\n",
        "from tensorflow.keras.utils import plot_model\n",
        "plot_model(model)"
      ]
    },
    {
      "cell_type": "code",
      "execution_count": 10,
      "metadata": {
        "colab": {
          "base_uri": "https://localhost:8080/"
        },
        "id": "9UJdy7Mefnro",
        "outputId": "049cde5a-4bf1-44c8-df5b-8590158d3ae3"
      },
      "outputs": [
        {
          "name": "stdout",
          "output_type": "stream",
          "text": [
            "\n",
            "Training the data...\n",
            "\n",
            "Epoch 1/100\n",
            "151/151 [==============================] - 15s 35ms/step - loss: 1.0178 - accuracy: 0.5084 - val_loss: 0.9607 - val_accuracy: 0.5340\n",
            "Epoch 2/100\n",
            "151/151 [==============================] - 5s 33ms/step - loss: 0.8614 - accuracy: 0.5846 - val_loss: 0.9412 - val_accuracy: 0.5427\n",
            "Epoch 3/100\n",
            "151/151 [==============================] - 4s 29ms/step - loss: 0.6587 - accuracy: 0.7083 - val_loss: 0.6450 - val_accuracy: 0.7155\n",
            "Epoch 4/100\n",
            "151/151 [==============================] - 4s 29ms/step - loss: 0.3976 - accuracy: 0.8354 - val_loss: 0.5541 - val_accuracy: 0.7854\n",
            "Epoch 5/100\n",
            "151/151 [==============================] - 4s 29ms/step - loss: 0.2458 - accuracy: 0.9108 - val_loss: 0.4353 - val_accuracy: 0.8559\n",
            "Epoch 6/100\n",
            "151/151 [==============================] - 4s 29ms/step - loss: 0.1139 - accuracy: 0.9538 - val_loss: 0.5166 - val_accuracy: 0.8490\n",
            "Epoch 7/100\n",
            "151/151 [==============================] - 4s 29ms/step - loss: 0.0524 - accuracy: 0.9819 - val_loss: 0.4619 - val_accuracy: 0.8621\n",
            "Epoch 8/100\n",
            "151/151 [==============================] - 4s 29ms/step - loss: 0.0645 - accuracy: 0.9757 - val_loss: 0.4343 - val_accuracy: 0.8971\n",
            "Epoch 9/100\n",
            "151/151 [==============================] - 4s 29ms/step - loss: 0.0324 - accuracy: 0.9869 - val_loss: 0.5284 - val_accuracy: 0.8727\n",
            "Epoch 10/100\n",
            "151/151 [==============================] - 4s 29ms/step - loss: 0.0122 - accuracy: 0.9965 - val_loss: 0.7645 - val_accuracy: 0.8478\n",
            "Epoch 11/100\n",
            "151/151 [==============================] - 4s 29ms/step - loss: 0.0227 - accuracy: 0.9927 - val_loss: 0.6278 - val_accuracy: 0.8721\n",
            "Epoch 12/100\n",
            "151/151 [==============================] - 4s 29ms/step - loss: 0.0274 - accuracy: 0.9904 - val_loss: 0.5974 - val_accuracy: 0.8827\n",
            "Epoch 13/100\n",
            "151/151 [==============================] - 4s 29ms/step - loss: 0.0529 - accuracy: 0.9811 - val_loss: 0.5681 - val_accuracy: 0.8796\n",
            "Epoch 14/100\n",
            "151/151 [==============================] - 4s 29ms/step - loss: 0.0147 - accuracy: 0.9960 - val_loss: 0.5715 - val_accuracy: 0.8902\n",
            "Epoch 15/100\n",
            "151/151 [==============================] - 4s 29ms/step - loss: 0.0032 - accuracy: 0.9990 - val_loss: 0.7015 - val_accuracy: 0.8939\n",
            "Epoch 16/100\n",
            "151/151 [==============================] - 4s 29ms/step - loss: 0.0243 - accuracy: 0.9904 - val_loss: 0.5384 - val_accuracy: 0.8971\n",
            "Epoch 17/100\n",
            "151/151 [==============================] - 4s 29ms/step - loss: 0.0237 - accuracy: 0.9923 - val_loss: 0.6515 - val_accuracy: 0.8515\n",
            "Epoch 18/100\n",
            "151/151 [==============================] - 4s 29ms/step - loss: 0.0365 - accuracy: 0.9890 - val_loss: 0.4903 - val_accuracy: 0.8964\n",
            "Epoch 19/100\n",
            "151/151 [==============================] - 4s 29ms/step - loss: 0.0140 - accuracy: 0.9963 - val_loss: 0.4859 - val_accuracy: 0.9052\n",
            "Epoch 20/100\n",
            "151/151 [==============================] - 4s 30ms/step - loss: 0.0035 - accuracy: 0.9992 - val_loss: 0.5490 - val_accuracy: 0.9133\n",
            "Epoch 21/100\n",
            "151/151 [==============================] - 4s 30ms/step - loss: 1.6187e-04 - accuracy: 1.0000 - val_loss: 0.5381 - val_accuracy: 0.9158\n",
            "Epoch 22/100\n",
            "151/151 [==============================] - 4s 30ms/step - loss: 4.7752e-05 - accuracy: 1.0000 - val_loss: 0.5456 - val_accuracy: 0.9145\n",
            "Epoch 23/100\n",
            "151/151 [==============================] - 4s 30ms/step - loss: 3.3995e-05 - accuracy: 1.0000 - val_loss: 0.5525 - val_accuracy: 0.9145\n",
            "Epoch 24/100\n",
            "151/151 [==============================] - 4s 29ms/step - loss: 2.6361e-05 - accuracy: 1.0000 - val_loss: 0.5598 - val_accuracy: 0.9158\n",
            "Epoch 25/100\n",
            "151/151 [==============================] - 4s 29ms/step - loss: 2.1372e-05 - accuracy: 1.0000 - val_loss: 0.5658 - val_accuracy: 0.9164\n",
            "Epoch 26/100\n",
            "151/151 [==============================] - 4s 30ms/step - loss: 1.7785e-05 - accuracy: 1.0000 - val_loss: 0.5717 - val_accuracy: 0.9170\n",
            "Epoch 27/100\n",
            "151/151 [==============================] - 4s 30ms/step - loss: 1.5049e-05 - accuracy: 1.0000 - val_loss: 0.5772 - val_accuracy: 0.9183\n",
            "Epoch 28/100\n",
            "151/151 [==============================] - 5s 30ms/step - loss: 1.2926e-05 - accuracy: 1.0000 - val_loss: 0.5826 - val_accuracy: 0.9183\n",
            "Epoch 29/100\n",
            "151/151 [==============================] - 4s 30ms/step - loss: 1.1179e-05 - accuracy: 1.0000 - val_loss: 0.5876 - val_accuracy: 0.9177\n",
            "Epoch 30/100\n",
            "151/151 [==============================] - 4s 30ms/step - loss: 9.7654e-06 - accuracy: 1.0000 - val_loss: 0.5928 - val_accuracy: 0.9177\n",
            "Epoch 31/100\n",
            "151/151 [==============================] - 4s 30ms/step - loss: 8.5750e-06 - accuracy: 1.0000 - val_loss: 0.5977 - val_accuracy: 0.9177\n",
            "Epoch 32/100\n",
            "151/151 [==============================] - 4s 30ms/step - loss: 7.5603e-06 - accuracy: 1.0000 - val_loss: 0.6024 - val_accuracy: 0.9183\n",
            "Epoch 33/100\n",
            "151/151 [==============================] - 4s 30ms/step - loss: 6.7225e-06 - accuracy: 1.0000 - val_loss: 0.6070 - val_accuracy: 0.9189\n",
            "Epoch 34/100\n",
            "151/151 [==============================] - 5s 30ms/step - loss: 5.9981e-06 - accuracy: 1.0000 - val_loss: 0.6117 - val_accuracy: 0.9189\n",
            "Epoch 35/100\n",
            "151/151 [==============================] - 4s 30ms/step - loss: 5.3683e-06 - accuracy: 1.0000 - val_loss: 0.6161 - val_accuracy: 0.9195\n",
            "Epoch 36/100\n",
            "151/151 [==============================] - 4s 30ms/step - loss: 4.8159e-06 - accuracy: 1.0000 - val_loss: 0.6205 - val_accuracy: 0.9201\n",
            "Epoch 37/100\n",
            "151/151 [==============================] - 4s 29ms/step - loss: 4.3270e-06 - accuracy: 1.0000 - val_loss: 0.6249 - val_accuracy: 0.9208\n",
            "Epoch 38/100\n",
            "151/151 [==============================] - 4s 30ms/step - loss: 3.8981e-06 - accuracy: 1.0000 - val_loss: 0.6292 - val_accuracy: 0.9208\n",
            "Epoch 39/100\n",
            "151/151 [==============================] - 4s 30ms/step - loss: 3.5146e-06 - accuracy: 1.0000 - val_loss: 0.6335 - val_accuracy: 0.9208\n",
            "Epoch 40/100\n",
            "151/151 [==============================] - 4s 29ms/step - loss: 3.1778e-06 - accuracy: 1.0000 - val_loss: 0.6377 - val_accuracy: 0.9208\n",
            "Epoch 41/100\n",
            "151/151 [==============================] - 4s 29ms/step - loss: 2.8735e-06 - accuracy: 1.0000 - val_loss: 0.6417 - val_accuracy: 0.9214\n",
            "Epoch 42/100\n",
            "151/151 [==============================] - 4s 30ms/step - loss: 2.6000e-06 - accuracy: 1.0000 - val_loss: 0.6459 - val_accuracy: 0.9214\n",
            "Epoch 43/100\n",
            "151/151 [==============================] - 5s 30ms/step - loss: 2.3543e-06 - accuracy: 1.0000 - val_loss: 0.6500 - val_accuracy: 0.9214\n",
            "Epoch 44/100\n",
            "151/151 [==============================] - 4s 30ms/step - loss: 2.1388e-06 - accuracy: 1.0000 - val_loss: 0.6539 - val_accuracy: 0.9220\n",
            "Epoch 45/100\n",
            "151/151 [==============================] - 4s 29ms/step - loss: 1.9416e-06 - accuracy: 1.0000 - val_loss: 0.6581 - val_accuracy: 0.9220\n",
            "Epoch 46/100\n",
            "151/151 [==============================] - 4s 30ms/step - loss: 1.7687e-06 - accuracy: 1.0000 - val_loss: 0.6619 - val_accuracy: 0.9226\n",
            "Epoch 47/100\n",
            "151/151 [==============================] - 4s 30ms/step - loss: 1.6108e-06 - accuracy: 1.0000 - val_loss: 0.6661 - val_accuracy: 0.9226\n",
            "Epoch 48/100\n",
            "151/151 [==============================] - 4s 30ms/step - loss: 1.4672e-06 - accuracy: 1.0000 - val_loss: 0.6700 - val_accuracy: 0.9226\n",
            "Epoch 49/100\n",
            "151/151 [==============================] - 4s 30ms/step - loss: 1.3394e-06 - accuracy: 1.0000 - val_loss: 0.6741 - val_accuracy: 0.9226\n",
            "Epoch 50/100\n",
            "151/151 [==============================] - 4s 30ms/step - loss: 1.2204e-06 - accuracy: 1.0000 - val_loss: 0.6779 - val_accuracy: 0.9226\n",
            "Epoch 51/100\n",
            "151/151 [==============================] - 4s 30ms/step - loss: 1.1156e-06 - accuracy: 1.0000 - val_loss: 0.6817 - val_accuracy: 0.9226\n",
            "Epoch 52/100\n",
            "151/151 [==============================] - 4s 30ms/step - loss: 1.0177e-06 - accuracy: 1.0000 - val_loss: 0.6857 - val_accuracy: 0.9226\n",
            "Epoch 53/100\n",
            "151/151 [==============================] - 5s 30ms/step - loss: 9.3057e-07 - accuracy: 1.0000 - val_loss: 0.6894 - val_accuracy: 0.9233\n",
            "Epoch 54/100\n",
            "151/151 [==============================] - 5s 30ms/step - loss: 8.5060e-07 - accuracy: 1.0000 - val_loss: 0.6933 - val_accuracy: 0.9233\n",
            "Epoch 55/100\n",
            "151/151 [==============================] - 5s 30ms/step - loss: 7.7858e-07 - accuracy: 1.0000 - val_loss: 0.6972 - val_accuracy: 0.9233\n",
            "Epoch 56/100\n",
            "151/151 [==============================] - 4s 30ms/step - loss: 7.1299e-07 - accuracy: 1.0000 - val_loss: 0.7012 - val_accuracy: 0.9233\n",
            "Epoch 57/100\n",
            "151/151 [==============================] - 5s 30ms/step - loss: 6.5308e-07 - accuracy: 1.0000 - val_loss: 0.7051 - val_accuracy: 0.9239\n",
            "Epoch 58/100\n",
            "151/151 [==============================] - 4s 29ms/step - loss: 5.9800e-07 - accuracy: 1.0000 - val_loss: 0.7089 - val_accuracy: 0.9239\n",
            "Epoch 59/100\n",
            "151/151 [==============================] - 4s 30ms/step - loss: 5.4835e-07 - accuracy: 1.0000 - val_loss: 0.7127 - val_accuracy: 0.9239\n",
            "Epoch 60/100\n",
            "151/151 [==============================] - 4s 30ms/step - loss: 5.0230e-07 - accuracy: 1.0000 - val_loss: 0.7165 - val_accuracy: 0.9239\n",
            "Epoch 61/100\n",
            "151/151 [==============================] - 5s 30ms/step - loss: 4.6000e-07 - accuracy: 1.0000 - val_loss: 0.7205 - val_accuracy: 0.9226\n",
            "Epoch 62/100\n",
            "151/151 [==============================] - 4s 30ms/step - loss: 4.2116e-07 - accuracy: 1.0000 - val_loss: 0.7243 - val_accuracy: 0.9233\n",
            "Epoch 63/100\n",
            "151/151 [==============================] - 4s 30ms/step - loss: 3.8575e-07 - accuracy: 1.0000 - val_loss: 0.7283 - val_accuracy: 0.9233\n",
            "Epoch 64/100\n",
            "151/151 [==============================] - 5s 34ms/step - loss: 3.5376e-07 - accuracy: 1.0000 - val_loss: 0.7322 - val_accuracy: 0.9226\n",
            "Epoch 65/100\n",
            "151/151 [==============================] - 4s 30ms/step - loss: 3.2316e-07 - accuracy: 1.0000 - val_loss: 0.7362 - val_accuracy: 0.9220\n",
            "Epoch 66/100\n",
            "151/151 [==============================] - 5s 30ms/step - loss: 2.9645e-07 - accuracy: 1.0000 - val_loss: 0.7400 - val_accuracy: 0.9226\n",
            "Epoch 67/100\n",
            "151/151 [==============================] - 4s 30ms/step - loss: 2.7128e-07 - accuracy: 1.0000 - val_loss: 0.7440 - val_accuracy: 0.9220\n",
            "Epoch 68/100\n",
            "151/151 [==============================] - 4s 30ms/step - loss: 2.4896e-07 - accuracy: 1.0000 - val_loss: 0.7479 - val_accuracy: 0.9220\n",
            "Epoch 69/100\n",
            "151/151 [==============================] - 5s 30ms/step - loss: 2.2823e-07 - accuracy: 1.0000 - val_loss: 0.7518 - val_accuracy: 0.9220\n",
            "Epoch 70/100\n",
            "151/151 [==============================] - 4s 30ms/step - loss: 2.0886e-07 - accuracy: 1.0000 - val_loss: 0.7560 - val_accuracy: 0.9220\n",
            "Epoch 71/100\n",
            "151/151 [==============================] - 4s 30ms/step - loss: 1.9118e-07 - accuracy: 1.0000 - val_loss: 0.7598 - val_accuracy: 0.9226\n",
            "Epoch 72/100\n",
            "151/151 [==============================] - 5s 30ms/step - loss: 1.7528e-07 - accuracy: 1.0000 - val_loss: 0.7640 - val_accuracy: 0.9226\n",
            "Epoch 73/100\n",
            "151/151 [==============================] - 5s 34ms/step - loss: 1.6087e-07 - accuracy: 1.0000 - val_loss: 0.7680 - val_accuracy: 0.9220\n",
            "Epoch 74/100\n",
            "151/151 [==============================] - 4s 30ms/step - loss: 1.4753e-07 - accuracy: 1.0000 - val_loss: 0.7721 - val_accuracy: 0.9220\n",
            "Epoch 75/100\n",
            "151/151 [==============================] - 4s 30ms/step - loss: 1.3528e-07 - accuracy: 1.0000 - val_loss: 0.7760 - val_accuracy: 0.9220\n",
            "Epoch 76/100\n",
            "151/151 [==============================] - 4s 30ms/step - loss: 1.2434e-07 - accuracy: 1.0000 - val_loss: 0.7798 - val_accuracy: 0.9220\n",
            "Epoch 77/100\n",
            "151/151 [==============================] - 4s 30ms/step - loss: 1.1420e-07 - accuracy: 1.0000 - val_loss: 0.7836 - val_accuracy: 0.9220\n",
            "Epoch 78/100\n",
            "151/151 [==============================] - 4s 30ms/step - loss: 1.0485e-07 - accuracy: 1.0000 - val_loss: 0.7877 - val_accuracy: 0.9220\n",
            "Epoch 79/100\n",
            "151/151 [==============================] - 4s 30ms/step - loss: 9.6022e-08 - accuracy: 1.0000 - val_loss: 0.7916 - val_accuracy: 0.9220\n",
            "Epoch 80/100\n",
            "151/151 [==============================] - 4s 30ms/step - loss: 8.8557e-08 - accuracy: 1.0000 - val_loss: 0.7957 - val_accuracy: 0.9214\n",
            "Epoch 81/100\n",
            "151/151 [==============================] - 5s 30ms/step - loss: 8.1143e-08 - accuracy: 1.0000 - val_loss: 0.7996 - val_accuracy: 0.9220\n",
            "Epoch 82/100\n",
            "151/151 [==============================] - 5s 30ms/step - loss: 7.4397e-08 - accuracy: 1.0000 - val_loss: 0.8034 - val_accuracy: 0.9220\n",
            "Epoch 83/100\n",
            "151/151 [==============================] - 4s 30ms/step - loss: 6.8445e-08 - accuracy: 1.0000 - val_loss: 0.8074 - val_accuracy: 0.9226\n",
            "Epoch 84/100\n",
            "151/151 [==============================] - 4s 30ms/step - loss: 6.2990e-08 - accuracy: 1.0000 - val_loss: 0.8114 - val_accuracy: 0.9226\n",
            "Epoch 85/100\n",
            "151/151 [==============================] - 5s 34ms/step - loss: 5.7831e-08 - accuracy: 1.0000 - val_loss: 0.8156 - val_accuracy: 0.9226\n",
            "Epoch 86/100\n",
            "151/151 [==============================] - 4s 30ms/step - loss: 5.2797e-08 - accuracy: 1.0000 - val_loss: 0.8193 - val_accuracy: 0.9226\n",
            "Epoch 87/100\n",
            "151/151 [==============================] - 4s 30ms/step - loss: 4.8284e-08 - accuracy: 1.0000 - val_loss: 0.8232 - val_accuracy: 0.9226\n",
            "Epoch 88/100\n",
            "151/151 [==============================] - 5s 30ms/step - loss: 4.4663e-08 - accuracy: 1.0000 - val_loss: 0.8269 - val_accuracy: 0.9233\n",
            "Epoch 89/100\n",
            "151/151 [==============================] - 5s 30ms/step - loss: 4.1241e-08 - accuracy: 1.0000 - val_loss: 0.8309 - val_accuracy: 0.9233\n",
            "Epoch 90/100\n",
            "151/151 [==============================] - 5s 30ms/step - loss: 3.8067e-08 - accuracy: 1.0000 - val_loss: 0.8349 - val_accuracy: 0.9233\n",
            "Epoch 91/100\n",
            "151/151 [==============================] - 4s 30ms/step - loss: 3.5140e-08 - accuracy: 1.0000 - val_loss: 0.8385 - val_accuracy: 0.9233\n",
            "Epoch 92/100\n",
            "151/151 [==============================] - 4s 30ms/step - loss: 3.2115e-08 - accuracy: 1.0000 - val_loss: 0.8426 - val_accuracy: 0.9239\n",
            "Epoch 93/100\n",
            "151/151 [==============================] - 4s 30ms/step - loss: 2.9561e-08 - accuracy: 1.0000 - val_loss: 0.8465 - val_accuracy: 0.9245\n",
            "Epoch 94/100\n",
            "151/151 [==============================] - 4s 30ms/step - loss: 2.7205e-08 - accuracy: 1.0000 - val_loss: 0.8501 - val_accuracy: 0.9245\n",
            "Epoch 95/100\n",
            "151/151 [==============================] - 4s 30ms/step - loss: 2.4898e-08 - accuracy: 1.0000 - val_loss: 0.8542 - val_accuracy: 0.9245\n",
            "Epoch 96/100\n",
            "151/151 [==============================] - 4s 30ms/step - loss: 2.2914e-08 - accuracy: 1.0000 - val_loss: 0.8576 - val_accuracy: 0.9245\n",
            "Epoch 97/100\n",
            "151/151 [==============================] - 4s 30ms/step - loss: 2.1030e-08 - accuracy: 1.0000 - val_loss: 0.8612 - val_accuracy: 0.9245\n",
            "Epoch 98/100\n",
            "151/151 [==============================] - 4s 30ms/step - loss: 1.9467e-08 - accuracy: 1.0000 - val_loss: 0.8648 - val_accuracy: 0.9245\n",
            "Epoch 99/100\n",
            "151/151 [==============================] - 4s 30ms/step - loss: 1.7955e-08 - accuracy: 1.0000 - val_loss: 0.8685 - val_accuracy: 0.9239\n",
            "Epoch 100/100\n",
            "151/151 [==============================] - 4s 30ms/step - loss: 1.6541e-08 - accuracy: 1.0000 - val_loss: 0.8723 - val_accuracy: 0.9239\n"
          ]
        },
        {
          "data": {
            "text/plain": [
              "<keras.callbacks.History at 0x7f3abb4489d0>"
            ]
          },
          "execution_count": 10,
          "metadata": {},
          "output_type": "execute_result"
        }
      ],
      "source": [
        "#step6 Compiling CNN\n",
        "model.compile(optimizer = 'adam', loss = 'categorical_crossentropy', metrics = ['accuracy'])\n",
        "\n",
        "#step7 Fitting CNN to images\n",
        "\n",
        "print(\"\\nTraining the data...\\n\")\n",
        "\n",
        "model.fit(train_data, train_labels, validation_data = (val_data, val_labels), epochs = 100)"
      ]
    },
    {
      "cell_type": "code",
      "execution_count": 11,
      "metadata": {
        "colab": {
          "base_uri": "https://localhost:8080/"
        },
        "id": "UQDU1nAcuYzO",
        "outputId": "8f94da8b-7458-49d0-9e5f-8ee9dd624740"
      },
      "outputs": [
        {
          "name": "stdout",
          "output_type": "stream",
          "text": [
            "51/51 [==============================] - 1s 14ms/step - loss: 0.8723 - accuracy: 0.9239\n",
            "Test Accuracy: 92.39%\n"
          ]
        }
      ],
      "source": [
        "test_scores = model.evaluate(val_data, val_labels)\n",
        "\n",
        "print(\"Test Accuracy: %.2f%%\"%(test_scores[1] * 100))"
      ]
    },
    {
      "cell_type": "code",
      "execution_count": null,
      "metadata": {
        "id": "FSui8vIxusJn"
      },
      "outputs": [],
      "source": [
        "#pred_labels = model.predict(test_data)"
      ]
    },
    {
      "cell_type": "code",
      "execution_count": 12,
      "metadata": {
        "id": "R7Y6hhJ-vIeF"
      },
      "outputs": [],
      "source": [
        "model.save('CNN_model.h5')"
      ]
    },
    {
      "cell_type": "code",
      "execution_count": null,
      "metadata": {
        "colab": {
          "base_uri": "https://localhost:8080/"
        },
        "id": "61FQwh3izCfM",
        "outputId": "aa6ae32e-a3a1-459f-dc0d-3846125b6ecc"
      },
      "outputs": [
        {
          "name": "stdout",
          "output_type": "stream",
          "text": [
            "Predicted Array: [[0 0 0 1]]\n",
            "Predicted Label: VeryMildDemented\n"
          ]
        }
      ],
      "source": [
        "from keras.preprocessing import image\n",
        "img_path = '/content/drive/MyDrive/AI Data/Alzheimers_Dataset/test/MildDemented/27.jpg'\n",
        "label = [ 'ModerateDemented', 'NonDemented', 'VeryMildDemented', 'MildDemented']\n",
        "img = image.load_img(img_path, target_size=(176, 176))\n",
        "x = image.img_to_array(img)\n",
        "x = np.expand_dims(x, axis=0)\n",
        "x = preprocess_input(x)\n",
        "features = model.predict(x)\n",
        "thresholded = (features>0.5)*1\n",
        "ind = np.argmax(thresholded)\n",
        "print('Predicted Array:',thresholded)\n",
        "print('Predicted Label:',label[ind])"
      ]
    }
  ],
  "metadata": {
    "accelerator": "GPU",
    "colab": {
      "collapsed_sections": [],
      "name": "CNN_Alzheimers.ipynb",
      "provenance": []
    },
    "kernelspec": {
      "display_name": "Python 3",
      "name": "python3"
    },
    "language_info": {
      "name": "python",
      "version": "3.9.6"
    }
  },
  "nbformat": 4,
  "nbformat_minor": 0
}
